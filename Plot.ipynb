{
  "nbformat": 4,
  "nbformat_minor": 0,
  "metadata": {
    "colab": {
      "provenance": [],
      "authorship_tag": "ABX9TyOrGFv0IjzCpYD2EsuqVbLr",
      "include_colab_link": true
    },
    "kernelspec": {
      "name": "python3",
      "display_name": "Python 3"
    },
    "language_info": {
      "name": "python"
    }
  },
  "cells": [
    {
      "cell_type": "markdown",
      "metadata": {
        "id": "view-in-github",
        "colab_type": "text"
      },
      "source": [
        "<a href=\"https://colab.research.google.com/github/zzephryyk/ApiTelegram/blob/main/Plot.ipynb\" target=\"_parent\"><img src=\"https://colab.research.google.com/assets/colab-badge.svg\" alt=\"Open In Colab\"/></a>"
      ]
    },
    {
      "cell_type": "code",
      "execution_count": 1,
      "metadata": {
        "colab": {
          "base_uri": "https://localhost:8080/"
        },
        "id": "ldZJMVb5LRik",
        "outputId": "f3c4a9c3-7c8d-4c66-f6d5-158936387e38"
      },
      "outputs": [
        {
          "output_type": "stream",
          "name": "stdout",
          "text": [
            "Requirement already satisfied: requests in /usr/local/lib/python3.10/dist-packages (2.32.3)\n",
            "Collecting bs4\n",
            "  Downloading bs4-0.0.2-py2.py3-none-any.whl.metadata (411 bytes)\n",
            "Collecting img2pdf\n",
            "  Downloading img2pdf-0.5.1.tar.gz (104 kB)\n",
            "\u001b[2K     \u001b[90m━━━━━━━━━━━━━━━━━━━━━━━━━━━━━━━━━━━━━━━━\u001b[0m \u001b[32m104.2/104.2 kB\u001b[0m \u001b[31m2.3 MB/s\u001b[0m eta \u001b[36m0:00:00\u001b[0m\n",
            "\u001b[?25h  Preparing metadata (setup.py) ... \u001b[?25l\u001b[?25hdone\n",
            "Requirement already satisfied: charset-normalizer<4,>=2 in /usr/local/lib/python3.10/dist-packages (from requests) (3.3.2)\n",
            "Requirement already satisfied: idna<4,>=2.5 in /usr/local/lib/python3.10/dist-packages (from requests) (3.10)\n",
            "Requirement already satisfied: urllib3<3,>=1.21.1 in /usr/local/lib/python3.10/dist-packages (from requests) (2.2.3)\n",
            "Requirement already satisfied: certifi>=2017.4.17 in /usr/local/lib/python3.10/dist-packages (from requests) (2024.8.30)\n",
            "Requirement already satisfied: beautifulsoup4 in /usr/local/lib/python3.10/dist-packages (from bs4) (4.12.3)\n",
            "Requirement already satisfied: Pillow in /usr/local/lib/python3.10/dist-packages (from img2pdf) (10.4.0)\n",
            "Collecting pikepdf (from img2pdf)\n",
            "  Downloading pikepdf-9.2.1-cp310-cp310-manylinux_2_17_x86_64.manylinux2014_x86_64.whl.metadata (8.2 kB)\n",
            "Requirement already satisfied: soupsieve>1.2 in /usr/local/lib/python3.10/dist-packages (from beautifulsoup4->bs4) (2.6)\n",
            "Collecting Deprecated (from pikepdf->img2pdf)\n",
            "  Downloading Deprecated-1.2.14-py2.py3-none-any.whl.metadata (5.4 kB)\n",
            "Requirement already satisfied: lxml>=4.8 in /usr/local/lib/python3.10/dist-packages (from pikepdf->img2pdf) (4.9.4)\n",
            "Requirement already satisfied: packaging in /usr/local/lib/python3.10/dist-packages (from pikepdf->img2pdf) (24.1)\n",
            "Requirement already satisfied: wrapt<2,>=1.10 in /usr/local/lib/python3.10/dist-packages (from Deprecated->pikepdf->img2pdf) (1.16.0)\n",
            "Downloading bs4-0.0.2-py2.py3-none-any.whl (1.2 kB)\n",
            "Downloading pikepdf-9.2.1-cp310-cp310-manylinux_2_17_x86_64.manylinux2014_x86_64.whl (2.4 MB)\n",
            "\u001b[2K   \u001b[90m━━━━━━━━━━━━━━━━━━━━━━━━━━━━━━━━━━━━━━━━\u001b[0m \u001b[32m2.4/2.4 MB\u001b[0m \u001b[31m29.8 MB/s\u001b[0m eta \u001b[36m0:00:00\u001b[0m\n",
            "\u001b[?25hDownloading Deprecated-1.2.14-py2.py3-none-any.whl (9.6 kB)\n",
            "Building wheels for collected packages: img2pdf\n",
            "  Building wheel for img2pdf (setup.py) ... \u001b[?25l\u001b[?25hdone\n",
            "  Created wheel for img2pdf: filename=img2pdf-0.5.1-py3-none-any.whl size=49275 sha256=92e09b4bd7d58ec8388598ccc8be94e627afab1710f5482875133047214c7f84\n",
            "  Stored in directory: /root/.cache/pip/wheels/b7/e2/32/e12ea533072415219fc91a248cc413f34c505881ba850bf058\n",
            "Successfully built img2pdf\n",
            "Installing collected packages: Deprecated, pikepdf, bs4, img2pdf\n",
            "Successfully installed Deprecated-1.2.14 bs4-0.0.2 img2pdf-0.5.1 pikepdf-9.2.1\n"
          ]
        }
      ],
      "source": [
        "!pip install requests bs4 img2pdf"
      ]
    },
    {
      "cell_type": "code",
      "source": [
        "import io\n",
        "import img2pdf\n",
        "from PIL import Image\n",
        "import os\n",
        "from typing import List\n",
        "\n",
        "\n",
        "class mangaPdf:\n",
        "    def __init__(\n",
        "        self,\n",
        "        ChapterName: str,\n",
        "        imagesBytes: List[bytes],\n",
        "        pdfPath: str,\n",
        "    ) -> None:\n",
        "        self.ChapterName = ChapterName\n",
        "        self.imagesBytes = imagesBytes\n",
        "        self.pdfPath = pdfPath\n",
        "\n",
        "    def remove_alpha_channel(self, image_bytes: bytes) -> bytes:\n",
        "        with Image.open(io.BytesIO(image_bytes)) as img:\n",
        "            if img.mode == \"RGBA\":\n",
        "                img = img.convert(\"RGB\")\n",
        "                with io.BytesIO() as buffer:\n",
        "                    img.save(buffer, format=\"PNG\")\n",
        "                    return buffer.getvalue()\n",
        "            return image_bytes\n",
        "\n",
        "    def toPdf(self) -> None:\n",
        "        if not os.path.exists(self.pdfPath):\n",
        "            os.mkdir(self.pdfPath)\n",
        "        pdf_file_path = os.path.join(self.pdfPath, f\"{self.ChapterName}.pdf\")\n",
        "        if os.path.exists(pdf_file_path):\n",
        "            return\n",
        "\n",
        "        image_bytes_list = []\n",
        "        for image_bytes in self.imagesBytes:\n",
        "            processed_image_bytes = self.remove_alpha_channel(image_bytes)\n",
        "            image_bytes_list.append(io.BytesIO(processed_image_bytes))\n",
        "\n",
        "        if image_bytes_list:\n",
        "            pdf_data = img2pdf.convert(\n",
        "                [image_bytes_io.getvalue() for image_bytes_io in image_bytes_list],\n",
        "                rotation=img2pdf.Rotation.ifvalid,\n",
        "            )\n",
        "\n",
        "            with open(pdf_file_path, \"wb\") as file:\n",
        "                file.write(pdf_data)\n",
        "            print(f\"PDF saved to {pdf_file_path}\")\n",
        "        else:\n",
        "            print(f\"No images were processed. {self.imagesBytes}\")"
      ],
      "metadata": {
        "id": "68x24q8LLmee"
      },
      "execution_count": 2,
      "outputs": []
    },
    {
      "cell_type": "code",
      "source": [
        "import json\n",
        "import requests\n",
        "from bs4 import BeautifulSoup\n",
        "\n",
        "def configure_json(f):\n",
        "    newJson = {}\n",
        "    data = json.loads(f)\n",
        "    chapSelected = data[\"actual\"]\n",
        "    chapter = next((i for i in data[\"chapters\"] if str(i[\"chapter_number\"]) == chapSelected), None)\n",
        "    if chapter is not None:\n",
        "        chapter_name = chapter[\"chapter_name\"]\n",
        "        newJson[\"site_url\"] = data[\"site_url\"]\n",
        "        newJson[\"Karte\"] = f\"Karte {chapSelected}: {chapter_name}\"\n",
        "        newJson[\"title\"] = data[\"title\"]\n",
        "        newJson[\"images\"] = [\n",
        "            data[\"image_url\"] + \"/\"+ data[\"title\"] + \"_\"+ image[\"manga_id\"] + \"/\" \"ch_\"+ data[\"actual\"] + \"/\" + image[\"image_name\"]\n",
        "            for image in data[\"images\"]\n",
        "        ]\n",
        "        newJson[\"url\"] = data[\"image_url\"] + data[\"title\"]\n",
        "        newJson[\"chapter\"] = chapSelected\n",
        "        return newJson\n",
        "    return {}\n",
        "\n",
        "def ensureWeb(url):\n",
        "    r1 = requests.get(url)\n",
        "    if not r1.ok:\n",
        "        raise Exception(\"URL Invalid or Blocked\")\n",
        "    soup = BeautifulSoup(r1.text, \"html.parser\")\n",
        "    return soup.find(\"script\", {\"id\": \"suck-mihon-js-extra\"}).text.split(\"= \")[1].split(\"\"\";\n",
        "/* ]]> */\\n\"\"\")[0]\n",
        "\n",
        "url = str(input(\"URL: \"))\n",
        "f = ensureWeb(url)\n",
        "jsonConfigured = configure_json(f)\n",
        "name = input(\"Name: \")\n",
        "if not name:\n",
        "    name = \"Boku No Kokoro No Y - Capitulo \" + jsonConfigured[\"chapter\"]\n",
        "mangaMaker = mangaPdf(name, [requests.get(image).content for image in jsonConfigured[\"images\"]], \"./\").toPdf()"
      ],
      "metadata": {
        "colab": {
          "base_uri": "https://localhost:8080/"
        },
        "id": "bKe-x3C7LYIc",
        "outputId": "ed6ecd80-4d6a-4d14-fc2e-937e01e8018a"
      },
      "execution_count": 3,
      "outputs": [
        {
          "output_type": "stream",
          "name": "stdout",
          "text": [
            "URL: https://plotnf.com/reader/bokuyaba/chapter-153.00/\n",
            "Name: \n",
            "PDF saved to ./Boku No Kokoro No Y - Capitulo 153.pdf\n"
          ]
        }
      ]
    }
  ]
}